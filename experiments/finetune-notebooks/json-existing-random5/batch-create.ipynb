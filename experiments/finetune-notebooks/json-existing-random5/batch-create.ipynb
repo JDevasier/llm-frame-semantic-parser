{
 "cells": [
  {
   "cell_type": "code",
   "execution_count": 1,
   "metadata": {},
   "outputs": [],
   "source": [
    "import pandas as pd\n",
    "\n",
    "prompts = pd.read_json('fn1.7-test-prompts.jsonl', lines=True)"
   ]
  },
  {
   "cell_type": "code",
   "execution_count": 4,
   "metadata": {},
   "outputs": [],
   "source": [
    "def make_batch(row, model, temperature):\n",
    "    # Row: input_sentence\tframe_name\tframe_elements\tprompt\toutput\n",
    "    row_id = f\"request-{row.name}\"\n",
    "    method = \"POST\"\n",
    "    url = \"/v1/chat/completions\"\n",
    "    body = {\n",
    "        \"model\": model,\n",
    "        \"messages\": row.messages[:-1],\n",
    "        \"temperature\": temperature,\n",
    "    }\n",
    "\n",
    "    return {\n",
    "        \"custom_id\": row_id,\n",
    "        \"method\": method,\n",
    "        \"url\": url,\n",
    "        \"body\": body\n",
    "    }\n",
    "\n",
    "MODEL_NAME = \"ft:gpt-4o-mini-2024-07-18:idir-lab:fn1-7-json-existing-smalltrain:AVo7xNhv\"\n",
    "PROMPT_NAME = \"json-existing\"\n",
    "TEMPERATURE = 0.0\n",
    "\n",
    "file_name = f\"batch-{MODEL_NAME}-{TEMPERATURE}temperature-{PROMPT_NAME}\"\n",
    "\n",
    "batch_prompts = prompts.apply(lambda x: make_batch(x, MODEL_NAME, TEMPERATURE), axis=1)\n",
    "pd.DataFrame(batch_prompts)[0].to_json(f\"{file_name}.jsonl\", orient=\"records\", lines=True)"
   ]
  },
  {
   "cell_type": "code",
   "execution_count": 5,
   "metadata": {},
   "outputs": [],
   "source": [
    "# Upload batch and run the model\n",
    "import openai\n",
    "\n",
    "client = openai.Client(api_key='sk-proj-')\n",
    "\n",
    "batch_input_file = client.files.create(file=open(f\"{file_name}.jsonl\", 'rb'), purpose='batch')\n",
    "\n",
    "request = client.batches.create(\n",
    "    input_file_id=batch_input_file.id,\n",
    "    endpoint=\"/v1/chat/completions\",\n",
    "    completion_window=\"24h\",\n",
    "    metadata={\n",
    "      \"description\": f\"Batch for FSP on FrameNet1.7 test set. Model: {MODEL_NAME}, Temperature: {TEMPERATURE}, Prompt: {PROMPT_NAME}\"\n",
    "    }\n",
    ")"
   ]
  },
  {
   "cell_type": "code",
   "execution_count": 6,
   "metadata": {},
   "outputs": [],
   "source": [
    "import datetime\n",
    "dts = datetime.datetime.fromtimestamp(request.created_at).strftime(\"%Y%m%d-%H%M%S\")\n",
    "\n",
    "with open(f\"{file_name}.id\", \"w\") as f:\n",
    "    f.write(request.id)"
   ]
  },
  {
   "cell_type": "markdown",
   "metadata": {},
   "source": [
    "## Once the batch has finished..."
   ]
  },
  {
   "cell_type": "code",
   "execution_count": 7,
   "metadata": {},
   "outputs": [],
   "source": [
    "import openai\n",
    "import os\n",
    "\n",
    "with open(f\"{file_name}.id\", \"r\") as f:\n",
    "    request_id = f.read()\n",
    "\n",
    "client = openai.Client(api_key='sk-proj-')\n",
    "\n",
    "request = client.batches.retrieve(request_id)\n",
    "\n",
    "if not os.path.exists(f\"{file_name}-predictions.jsonl\"):\n",
    "    output_file = client.files.retrieve(request.output_file_id)\n",
    "    output_file_content = client.files.content(output_file.id)\n",
    "\n",
    "    with open(f\"{file_name}-predictions.jsonl\", \"wb\") as f:\n",
    "        f.write(output_file_content.content)"
   ]
  },
  {
   "cell_type": "code",
   "execution_count": 8,
   "metadata": {},
   "outputs": [],
   "source": [
    "# Extract JSON from each line\n",
    "import re\n",
    "import json\n",
    "\n",
    "def clean_output(output):\n",
    "    cleaned_output = output\n",
    "    # Extract XML code from the output\n",
    "    xml_code = re.search(r'```json(.*?)```', output, re.DOTALL)\n",
    "    cleaned_output = ''\n",
    "    if xml_code:\n",
    "        cleaned_output = xml_code.group(1).strip()\n",
    "    \n",
    "    # Parse the JSON\n",
    "    try:\n",
    "        # cleaned_output = json.loads(cleaned_output)\n",
    "        cleaned_output = eval(cleaned_output)\n",
    "    except:\n",
    "        return {}\n",
    "    \n",
    "    return cleaned_output\n",
    "\n",
    "lines = pd.read_json(f\"{file_name}-predictions.jsonl\", lines=True)\n",
    "cleaned_lines = lines.response.apply(lambda x: clean_output(x['body']['choices'][0]['message']['content']))\n",
    "# cleaned_lines = [clean_output(line) for line in lines]\n",
    "\n",
    "cleaned_lines.to_json(f\"{file_name}-predictions-cleaned.jsonl\", orient=\"records\", lines=True)"
   ]
  },
  {
   "cell_type": "markdown",
   "metadata": {},
   "source": []
  },
  {
   "cell_type": "code",
   "execution_count": 9,
   "metadata": {},
   "outputs": [
    {
     "data": {
      "text/plain": [
       "\"### Output: \\n```json\\n{'Unit': 'December', 'Count': '1998'}\\n```\\n\""
      ]
     },
     "execution_count": 9,
     "metadata": {},
     "output_type": "execute_result"
    }
   ],
   "source": [
    "lines.response[0]['body']['choices'][0]['message']['content']"
   ]
  }
 ],
 "metadata": {
  "kernelspec": {
   "display_name": "fsp",
   "language": "python",
   "name": "python3"
  },
  "language_info": {
   "codemirror_mode": {
    "name": "ipython",
    "version": 3
   },
   "file_extension": ".py",
   "mimetype": "text/x-python",
   "name": "python",
   "nbconvert_exporter": "python",
   "pygments_lexer": "ipython3",
   "version": "3.12.7"
  }
 },
 "nbformat": 4,
 "nbformat_minor": 2
}
