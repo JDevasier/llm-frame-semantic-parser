{
 "cells": [
  {
   "cell_type": "code",
   "execution_count": 9,
   "metadata": {},
   "outputs": [],
   "source": [
    "import pandas as pd\n",
    "import json\n",
    "import re\n",
    "\n",
    "def clean_output(output):\n",
    "    cleaned_output = output\n",
    "    # Extract XML code from the output\n",
    "    xml_code = re.search(r'```json(.*?)```', output, re.DOTALL)\n",
    "    cleaned_output = ''\n",
    "    if xml_code:\n",
    "        cleaned_output = xml_code.group(1).strip()\n",
    "    \n",
    "    # Parse the JSON\n",
    "    try:\n",
    "        # cleaned_output = json.loads(cleaned_output)\n",
    "        cleaned_output = eval(cleaned_output)\n",
    "    except:\n",
    "        return {}\n",
    "    \n",
    "    return cleaned_output\n",
    "\n",
    "predictions = pd.read_json('fn1.7-test-predictions.jsonl', lines=True)\n",
    "# predictions2 = pd.read_json('fn1.7-test-predictions-temp.jsonl', lines=True)\n",
    "# predictions = pd.read_json('llama-3.2-3B-fsp-2ep-preds.jsonl', lines=True)\n",
    "predictions['output'] = predictions.apply(lambda x: clean_output(x['messages'][-1]['content']), axis=1)\n",
    "predictions['prediction'] = predictions.apply(lambda x: clean_output(x['predictions']), axis=1)"
   ]
  },
  {
   "cell_type": "code",
   "execution_count": 10,
   "metadata": {},
   "outputs": [
    {
     "name": "stdout",
     "output_type": "stream",
     "text": [
      "TP: 8648\n",
      "Missed: 925\n",
      "FP: 2195\n",
      "FN: 2301\n",
      "Precision: 0.797565249469704\n",
      "Precision (ignoring near misses): 0.8719499899173221\n",
      "Recall: 0.7898438213535482\n",
      "F1: 0.7936857562408223\n",
      "Accuracy: 0.6579427875836884\n"
     ]
    }
   ],
   "source": [
    "tp = 0\n",
    "near_miss = 0\n",
    "fp = 0\n",
    "fn = 0\n",
    "tn = 0 # not really used because tags only have positive values, technically all other FEs are TN, but we don't really care about that (maybe we should?)\n",
    "\n",
    "for label, pred, fes in predictions[['output', 'prediction', 'output']].values:\n",
    "\n",
    "    # Get each predicted FE span from the prediction\n",
    "    pred_tags = pred\n",
    "    real_tags = fes\n",
    "\n",
    "    # Check each predicted FE span\n",
    "    for tag, content in pred_tags.items():\n",
    "        if tag.capitalize() in real_tags:\n",
    "            if content == real_tags[tag.capitalize()]:\n",
    "                tp += 1\n",
    "            else:\n",
    "                # print(f'Near miss: {content} vs {real_tags[tag.capitalize()]}')\n",
    "                fp += 1\n",
    "                near_miss += 1\n",
    "        else:\n",
    "            fp += 1\n",
    "    \n",
    "    # Check each real FE span\n",
    "    for tag, content in real_tags.items():\n",
    "        if tag not in pred_tags:\n",
    "            fn += 1\n",
    "        elif content != pred_tags[tag]:\n",
    "            fn += 1\n",
    "\n",
    "# print(f'Perfect: {perfect} out of {len(predictions)}')\n",
    "print(f'TP: {tp}')\n",
    "print(f'Missed: {near_miss}')\n",
    "print(f'FP: {fp}')\n",
    "print(f'FN: {fn}')\n",
    "\n",
    "print(f'Precision: {tp / (tp + fp)}')\n",
    "print(f'Precision (ignoring near misses): {tp / (tp + fp - near_miss)}')\n",
    "print(f'Recall: {tp / (tp + fn)}')\n",
    "print(f'F1: {2 * tp / (2 * tp + fp + fn)}')\n",
    "\n",
    "print(f'Accuracy: {tp / (tp + fn + fp)}')\n",
    "\n"
   ]
  }
 ],
 "metadata": {
  "kernelspec": {
   "display_name": "fsp25",
   "language": "python",
   "name": "python3"
  },
  "language_info": {
   "codemirror_mode": {
    "name": "ipython",
    "version": 3
   },
   "file_extension": ".py",
   "mimetype": "text/x-python",
   "name": "python",
   "nbconvert_exporter": "python",
   "pygments_lexer": "ipython3",
   "version": "3.12.8"
  }
 },
 "nbformat": 4,
 "nbformat_minor": 2
}
