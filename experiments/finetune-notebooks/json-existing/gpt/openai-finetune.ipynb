{
 "cells": [
  {
   "cell_type": "code",
   "execution_count": null,
   "metadata": {},
   "outputs": [],
   "source": [
    "import openai\n",
    "client = openai.Client(api_key='sk-proj-')\n",
    "\n",
    "\n",
    "# Full train / val files\n",
    "train_file = client.files.create(\n",
    "    file=open(\"fn1.7-train-prompts.jsonl\", \"rb\"),\n",
    "    purpose=\"fine-tune\"\n",
    ")\n",
    "\n",
    "val_file = client.files.create(\n",
    "    file=open(\"fn1.7-val-prompts.jsonl\", \"rb\"),\n",
    "    purpose=\"fine-tune\"\n",
    ")"
   ]
  },
  {
   "cell_type": "code",
   "execution_count": null,
   "metadata": {},
   "outputs": [],
   "source": [
    "# import tiktoken\n",
    "# import pandas as pd\n",
    "# import json\n",
    "\n",
    "# # Count number of tokens in training data\n",
    "# train_df = pd.read_json(\"fn1.7-train-prompts.jsonl\", lines=True)\n",
    "\n",
    "# encoding = tiktoken.encoding_for_model('gpt-4o-mini')\n",
    "\n",
    "# a = train_df.messages.apply(lambda x: sum([len(encoding.encode(y['content'])) for y in x]))\n",
    "\n",
    "# a.sum()"
   ]
  },
  {
   "cell_type": "code",
   "execution_count": 28,
   "metadata": {},
   "outputs": [
    {
     "data": {
      "text/plain": [
       "FineTuningJob(id='ftjob-nvLqs86Vpxqnmqbp7jyZA1BU', created_at=1731974885, error=Error(code=None, message=None, param=None), fine_tuned_model=None, finished_at=None, hyperparameters=Hyperparameters(n_epochs='auto', batch_size='auto', learning_rate_multiplier='auto'), model='gpt-4o-mini-2024-07-18', object='fine_tuning.job', organization_id='org-IhI0P77tYGrbPEE3tAiCq61K', result_files=[], seed=42, status='validating_files', trained_tokens=None, training_file='file-0tcX9QkFpm31aFm3XmzgPccP', validation_file='file-iJjJeKUe6UmNXUn92PsFFplc', estimated_finish=None, integrations=[], user_provided_suffix='fn1.7-json-existing')"
      ]
     },
     "execution_count": 28,
     "metadata": {},
     "output_type": "execute_result"
    }
   ],
   "source": [
    "model = 'gpt-4o-mini-2024-07-18'\n",
    "\n",
    "client.fine_tuning.jobs.create(\n",
    "    training_file=train_file.id,\n",
    "    validation_file=val_file.id,\n",
    "    model=model,\n",
    "    suffix='fn1.7-json-existing',\n",
    "    seed=42\n",
    ")"
   ]
  }
 ],
 "metadata": {
  "kernelspec": {
   "display_name": "fsp",
   "language": "python",
   "name": "python3"
  },
  "language_info": {
   "codemirror_mode": {
    "name": "ipython",
    "version": 3
   },
   "file_extension": ".py",
   "mimetype": "text/x-python",
   "name": "python",
   "nbconvert_exporter": "python",
   "pygments_lexer": "ipython3",
   "version": "3.12.7"
  }
 },
 "nbformat": 4,
 "nbformat_minor": 2
}
