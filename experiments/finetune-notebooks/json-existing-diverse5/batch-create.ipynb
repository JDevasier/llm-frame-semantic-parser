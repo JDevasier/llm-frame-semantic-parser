{
 "cells": [
  {
   "cell_type": "code",
   "execution_count": 1,
   "metadata": {},
   "outputs": [],
   "source": [
    "import pandas as pd\n",
    "\n",
    "prompts = pd.read_json('fn1.7-test-prompts.jsonl', lines=True)"
   ]
  },
  {
   "cell_type": "code",
   "execution_count": 2,
   "metadata": {},
   "outputs": [],
   "source": [
    "def make_batch(row, model, temperature):\n",
    "    # Row: input_sentence\tframe_name\tframe_elements\tprompt\toutput\n",
    "    row_id = f\"request-{row.name}\"\n",
    "    method = \"POST\"\n",
    "    url = \"/v1/chat/completions\"\n",
    "    body = {\n",
    "        \"model\": model,\n",
    "        \"messages\": row.messages[:-1],\n",
    "        \"temperature\": temperature,\n",
    "    }\n",
    "\n",
    "    return {\n",
    "        \"custom_id\": row_id,\n",
    "        \"method\": method,\n",
    "        \"url\": url,\n",
    "        \"body\": body\n",
    "    }\n",
    "\n",
    "MODEL_NAME = \"ft:gpt-4o-mini-2024-07-18:idir-lab:fn1-7-json-existing-smalltrain:Aau9E1GX\"\n",
    "PROMPT_NAME = \"json-existing\"\n",
    "TEMPERATURE = 0.0\n",
    "\n",
    "file_name = f\"batch-{MODEL_NAME}-{TEMPERATURE}temperature-{PROMPT_NAME}\"\n",
    "\n",
    "batch_prompts = prompts.apply(lambda x: make_batch(x, MODEL_NAME, TEMPERATURE), axis=1)\n",
    "pd.DataFrame(batch_prompts)[0].to_json(f\"{file_name}.jsonl\", orient=\"records\", lines=True)"
   ]
  },
  {
   "cell_type": "code",
   "execution_count": null,
   "metadata": {},
   "outputs": [],
   "source": [
    "# Upload batch and run the model\n",
    "import openai\n",
    "\n",
    "client = openai.Client(api_key='sk-proj-')\n",
    "\n",
    "batch_input_file = client.files.create(file=open(f\"{file_name}.jsonl\", 'rb'), purpose='batch')\n",
    "\n",
    "request = client.batches.create(\n",
    "    input_file_id=batch_input_file.id,\n",
    "    endpoint=\"/v1/chat/completions\",\n",
    "    completion_window=\"24h\",\n",
    "    metadata={\n",
    "      \"description\": f\"Batch for FSP on FrameNet1.7 test set. Model: {MODEL_NAME}, Temperature: {TEMPERATURE}, Prompt: {PROMPT_NAME}\"\n",
    "    }\n",
    ")"
   ]
  },
  {
   "cell_type": "code",
   "execution_count": 4,
   "metadata": {},
   "outputs": [],
   "source": [
    "import datetime\n",
    "dts = datetime.datetime.fromtimestamp(request.created_at).strftime(\"%Y%m%d-%H%M%S\")\n",
    "\n",
    "with open(f\"{file_name}.id\", \"w\") as f:\n",
    "    f.write(request.id)"
   ]
  },
  {
   "cell_type": "markdown",
   "metadata": {},
   "source": [
    "## Once the batch has finished..."
   ]
  },
  {
   "cell_type": "code",
   "execution_count": null,
   "metadata": {},
   "outputs": [],
   "source": [
    "import openai\n",
    "import os\n",
    "\n",
    "with open(f\"{file_name}.id\", \"r\") as f:\n",
    "    request_id = f.read()\n",
    "\n",
    "client = openai.Client(api_key='sk-proj-')\n",
    "\n",
    "request = client.batches.retrieve(request_id)\n",
    "\n",
    "if not os.path.exists(f\"{file_name}-predictions.jsonl\"):\n",
    "    output_file = client.files.retrieve(request.output_file_id)\n",
    "    output_file_content = client.files.content(output_file.id)\n",
    "\n",
    "    with open(f\"{file_name}-predictions.jsonl\", \"wb\") as f:\n",
    "        f.write(output_file_content.content)"
   ]
  },
  {
   "cell_type": "code",
   "execution_count": 6,
   "metadata": {},
   "outputs": [
    {
     "name": "stderr",
     "output_type": "stream",
     "text": [
      "Bad pipe message: %s [b'\\xe8\\xc9\\nt_\\x0c\\x19\\x9cj\\x9f(\\xbf8\\xb80\\xc4_\\x13\\x00\\x01|\\x00\\x00\\x00\\x01\\x00\\x02\\x00\\x03\\x00\\x04\\x00\\x05\\x00\\x06\\x00\\x07\\x00\\x08\\x00\\t\\x00\\n\\x00\\x0b\\x00\\x0c\\x00\\r\\x00\\x0e\\x00\\x0f\\x00\\x10\\x00\\x11\\x00\\x12\\x00\\x13\\x00\\x14\\x00\\x15\\x00\\x16\\x00\\x17\\x00\\x18\\x00\\x19\\x00\\x1a\\x00\\x1b\\x00/\\x000\\x001\\x002\\x003\\x004\\x005\\x006\\x007\\x008\\x009\\x00:\\x00;\\x00<\\x00=\\x00>\\x00?\\x00@\\x00A\\x00B\\x00C\\x00D\\x00E\\x00F\\x00g\\x00h\\x00i\\x00j\\x00k\\x00l\\x00m\\x00\\x84\\x00\\x85\\x00\\x86\\x00\\x87\\x00\\x88\\x00\\x89\\x00\\x96\\x00\\x97\\x00\\x98\\x00\\x99\\x00\\x9a\\x00\\x9b\\x00\\x9c\\x00\\x9d\\x00\\x9e\\x00\\x9f\\x00\\xa0\\x00\\xa1\\x00\\xa2\\x00\\xa3\\x00\\xa4\\x00\\xa5\\x00\\xa6\\x00\\xa7\\x00\\xba\\x00\\xbb\\x00\\xbc\\x00\\xbd\\x00\\xbe\\x00\\xbf\\x00\\xc0\\x00\\xc1\\x00\\xc2\\x00\\xc3\\x00\\xc4\\x00\\xc5\\x13\\x01\\x13\\x02\\x13\\x03\\x13\\x04\\x13\\x05\\xc0\\x01\\xc0\\x02\\xc0\\x03\\xc0\\x04']\n"
     ]
    }
   ],
   "source": [
    "# Extract JSON from each line\n",
    "import re\n",
    "import json\n",
    "\n",
    "def clean_output(output):\n",
    "    cleaned_output = output\n",
    "    # Extract XML code from the output\n",
    "    xml_code = re.search(r'```json(.*?)```', output, re.DOTALL)\n",
    "    cleaned_output = ''\n",
    "    if xml_code:\n",
    "        cleaned_output = xml_code.group(1).strip()\n",
    "    \n",
    "    # Parse the JSON\n",
    "    try:\n",
    "        # cleaned_output = json.loads(cleaned_output)\n",
    "        cleaned_output = eval(cleaned_output)\n",
    "    except:\n",
    "        return {}\n",
    "    \n",
    "    return cleaned_output\n",
    "\n",
    "lines = pd.read_json(f\"{file_name}-predictions.jsonl\", lines=True)\n",
    "cleaned_lines = lines.response.apply(lambda x: clean_output(x['body']['choices'][0]['message']['content']))\n",
    "# cleaned_lines = [clean_output(line) for line in lines]\n",
    "\n",
    "cleaned_lines.to_json(f\"{file_name}-predictions-cleaned.jsonl\", orient=\"records\", lines=True)"
   ]
  },
  {
   "cell_type": "markdown",
   "metadata": {},
   "source": []
  },
  {
   "cell_type": "code",
   "execution_count": 9,
   "metadata": {},
   "outputs": [
    {
     "data": {
      "text/plain": [
       "\"### Output: \\n```json\\n{'Unit': 'December', 'Count': '1998'}\\n```\\n\""
      ]
     },
     "execution_count": 9,
     "metadata": {},
     "output_type": "execute_result"
    }
   ],
   "source": [
    "lines.response[0]['body']['choices'][0]['message']['content']"
   ]
  }
 ],
 "metadata": {
  "kernelspec": {
   "display_name": "fsp",
   "language": "python",
   "name": "python3"
  },
  "language_info": {
   "codemirror_mode": {
    "name": "ipython",
    "version": 3
   },
   "file_extension": ".py",
   "mimetype": "text/x-python",
   "name": "python",
   "nbconvert_exporter": "python",
   "pygments_lexer": "ipython3",
   "version": "3.12.7"
  }
 },
 "nbformat": 4,
 "nbformat_minor": 2
}
