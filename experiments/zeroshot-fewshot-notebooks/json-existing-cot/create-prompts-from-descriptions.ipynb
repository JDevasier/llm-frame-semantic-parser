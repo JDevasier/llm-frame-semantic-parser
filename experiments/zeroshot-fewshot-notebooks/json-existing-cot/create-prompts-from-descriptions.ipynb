{
 "cells": [
  {
   "cell_type": "code",
   "execution_count": 1,
   "metadata": {},
   "outputs": [],
   "source": [
    "import pandas as pd\n",
    "\n",
    "frame_descriptions = pd.read_csv('frame_descriptions_json.csv')\n",
    "\n",
    "prompt = \"\"\"### Task:\n",
    "You are given a sentence and a frame with its associated frame elements and sometimes examples. Your task is to label the frame elements in the sentence using JSON. Keys should only be one of the defined frame elements. Do not make up your own frame elements, and do not remove or change the input in any way. Identify the frame elements based on the highlighted target word. \n",
    "\n",
    "### Frame Information:\n",
    "{frame_info}\n",
    "\n",
    "### Notes:\n",
    "- Return the tagged sentence in a ```json ``` code block.\n",
    "- Texts must not overlap.\n",
    "- Explain your process for solving the problem before providing the final answer.\n",
    "\n",
    "### Input:\n",
    "{input_sentence}\n",
    "\n",
    "\"\"\""
   ]
  },
  {
   "cell_type": "code",
   "execution_count": 2,
   "metadata": {},
   "outputs": [],
   "source": [
    "import pickle\n",
    "\n",
    "with open('../../data/raw/os_test.pkl', 'rb') as f:\n",
    "    fn_data = pickle.load(f)\n"
   ]
  },
  {
   "cell_type": "code",
   "execution_count": 3,
   "metadata": {},
   "outputs": [],
   "source": [
    "# Create dicts for each sample:\n",
    "# - input_sentence w/ target span surrounded with ** for highlighting\n",
    "# - frame_name\n",
    "# - frame_elements (as text, not spans)\n",
    "\n",
    "def get_json_output(text, frame_elements):\n",
    "    sorted_fes = sorted(frame_elements.items(), key=lambda x: text.find(x[1]))\n",
    "    \n",
    "    sorted_fes = dict(sorted_fes)\n",
    "    \n",
    "    return sorted_fes\n",
    "\n",
    "test_samples = []\n",
    "frame_descriptions_dict = frame_descriptions.set_index('name').to_dict()['description']\n",
    "\n",
    "for row in fn_data.iterrows():\n",
    "    # Index(['target', 'text', 'tokens', 'lu', 'frame', 'fe'], dtype='object')\n",
    "    idx, data = row\n",
    "    \n",
    "    # Get input sentence\n",
    "    input_sentence = data['text'][:data['target'][0]] + '**' + data['text'][data['target'][0]:data['target'][1]] + '**' + data['text'][data['target'][1]:]\n",
    "    \n",
    "    # Get frame name\n",
    "    frame_name = data['frame']\n",
    "    \n",
    "    # Get frame elements\n",
    "    frame_elements = {}\n",
    "    for fe in data['fe']:\n",
    "        frame_elements[fe[0]] = data['text'][fe[1]:fe[2]]\n",
    "        \n",
    "    # Get expected output\n",
    "    expected_output = get_json_output(data['text'], frame_elements)\n",
    "\n",
    "    sample = {\n",
    "        'input_sentence': input_sentence,\n",
    "        'frame_name': frame_name,\n",
    "        'frame_elements': frame_elements,\n",
    "        'prompt': prompt.format(frame_info=frame_descriptions_dict[frame_name], input_sentence=input_sentence),\n",
    "        'output': expected_output\n",
    "    }\n",
    "    \n",
    "    if len(frame_elements) > 0:\n",
    "        test_samples.append(sample)\n",
    "\n",
    "pd.DataFrame(test_samples).to_csv('fn1.7-test-prompts.csv', index=False)\n"
   ]
  }
 ],
 "metadata": {
  "kernelspec": {
   "display_name": "fsp",
   "language": "python",
   "name": "python3"
  },
  "language_info": {
   "codemirror_mode": {
    "name": "ipython",
    "version": 3
   },
   "file_extension": ".py",
   "mimetype": "text/x-python",
   "name": "python",
   "nbconvert_exporter": "python",
   "pygments_lexer": "ipython3",
   "version": "3.12.7"
  }
 },
 "nbformat": 4,
 "nbformat_minor": 2
}
