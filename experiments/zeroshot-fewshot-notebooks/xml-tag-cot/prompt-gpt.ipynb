{
 "cells": [
  {
   "cell_type": "code",
   "execution_count": 1,
   "metadata": {},
   "outputs": [],
   "source": [
    "import pandas as pd\n",
    "import openai\n",
    "\n",
    "prompts = pd.read_csv('fn1.7-test-prompts.csv')\n"
   ]
  },
  {
   "cell_type": "code",
   "execution_count": 3,
   "metadata": {},
   "outputs": [],
   "source": [
    "from concurrent.futures import ThreadPoolExecutor\n",
    "import re\n",
    "\n",
    "def clean_output(output):\n",
    "    clean_output = output\n",
    "    # Extract XML code from the output\n",
    "    xml_code = re.search(r'```xml(.*?)```', output, re.DOTALL)\n",
    "    clean_output = ''\n",
    "    if xml_code:\n",
    "        clean_output = xml_code.group(1).strip()\n",
    "\n",
    "    return clean_output\n",
    "\n",
    "def prompt_gpt(prompt):\n",
    "    response = client.chat.completions.create(\n",
    "        model=\"gpt-4o-mini\",\n",
    "        messages=[\n",
    "            {\"role\": \"system\", \"content\": prompt}\n",
    "        ]\n",
    "    )\n",
    "\n",
    "    output = response.choices[0].message.content\n",
    "    \n",
    "    return clean_output(output)\n",
    "\n",
    "def parallel_prompt_gpt(prompts):\n",
    "    with ThreadPoolExecutor(max_workers=5) as executor:\n",
    "        outputs = list(executor.map(prompt_gpt, prompts))\n",
    "\n",
    "    return outputs\n",
    "\n",
    "client = openai.Client(api_key='sk-proj-')\n",
    "\n",
    "outputs = parallel_prompt_gpt(prompts['prompt'].values)\n",
    "\n",
    "prompts['prediction'] = outputs\n",
    "\n",
    "prompts.to_csv('fn1.7-test-gpt-4o-mini-tempurature-1-descriptions-p2.csv', index=False)"
   ]
  }
 ],
 "metadata": {
  "kernelspec": {
   "display_name": "fsp",
   "language": "python",
   "name": "python3"
  },
  "language_info": {
   "codemirror_mode": {
    "name": "ipython",
    "version": 3
   },
   "file_extension": ".py",
   "mimetype": "text/x-python",
   "name": "python",
   "nbconvert_exporter": "python",
   "pygments_lexer": "ipython3",
   "version": "3.12.7"
  }
 },
 "nbformat": 4,
 "nbformat_minor": 2
}
