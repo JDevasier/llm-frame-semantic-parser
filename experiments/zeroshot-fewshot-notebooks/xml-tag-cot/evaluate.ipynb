{
 "cells": [
  {
   "cell_type": "code",
   "execution_count": 5,
   "metadata": {},
   "outputs": [],
   "source": [
    "import pandas as pd\n",
    "\n",
    "# predictions = pd.read_csv('fn1.7-test-gpt-4o-mini-tempurature-0-xml-descriptions.csv')\n",
    "# predictions = pd.read_csv('fn1.7-test-gpt-4o-mini-tempurature-1-xml-descriptions-p1.csv')\n",
    "predictions = pd.read_csv('fn1.7-test-gpt-4o-mini-tempurature-1-xml-descriptions-p2.csv')\n",
    "\n"
   ]
  },
  {
   "cell_type": "code",
   "execution_count": 6,
   "metadata": {},
   "outputs": [],
   "source": [
    "import re\n",
    "def get_tags(text: str) -> dict:\n",
    "    # example: 'Your gift to Goodwill is important because <Cognizer>people with physical and Mental disabilities</Cognizer> sometimes need an extra hand to <Entity>know</Entity> the pride that comes with work .'\n",
    "    # output: {'Cognizer': 'people with physical and Mental disabilities', 'Entity': 'know'}\n",
    "    tags = {}\n",
    "\n",
    "    # get all text between tags\n",
    "    matches = re.findall(r'<(.*?)>(.*?)</(.*?)>', text)\n",
    "    for match in matches:\n",
    "        tag = match[0]\n",
    "        content = match[1]\n",
    "        tags[tag] = content\n",
    "\n",
    "    return tags\n"
   ]
  },
  {
   "cell_type": "code",
   "execution_count": 8,
   "metadata": {},
   "outputs": [
    {
     "name": "stdout",
     "output_type": "stream",
     "text": [
      "TP: 3955\n",
      "Missed: 3621\n",
      "FP: 8819\n",
      "FN: 6994\n",
      "Precision: 0.30961327696884294\n",
      "Precision (ignoring near misses): 0.43209876543209874\n",
      "Recall: 0.36122020275824274\n",
      "F1: 0.33343169076423723\n",
      "Accuracy: 0.20007082152974504\n"
     ]
    }
   ],
   "source": [
    "tp = 0\n",
    "near_miss = 0\n",
    "fp = 0\n",
    "fn = 0\n",
    "tn = 0 # not really used because tags only have positive values, technically all other FEs are TN, but we don't really care about that (maybe we should?)\n",
    "\n",
    "for label, pred, fes in predictions[['output', 'prediction', 'frame_elements']].values:\n",
    "\n",
    "    # Get each predicted FE span from the prediction\n",
    "    pred_tags = get_tags(pred)\n",
    "    real_tags = eval(fes)\n",
    "\n",
    "    # Check each predicted FE span\n",
    "    for tag, content in pred_tags.items():\n",
    "        if tag.capitalize() in real_tags:\n",
    "            if content == real_tags[tag.capitalize()]:\n",
    "                tp += 1\n",
    "            else:\n",
    "                fp += 1\n",
    "                near_miss += 1\n",
    "        else:\n",
    "            fp += 1\n",
    "    \n",
    "    # Check each real FE span\n",
    "    for tag, content in real_tags.items():\n",
    "        if tag not in pred_tags:\n",
    "            fn += 1\n",
    "        elif content != pred_tags[tag]:\n",
    "            fn += 1\n",
    "\n",
    "# print(f'Perfect: {perfect} out of {len(predictions)}')\n",
    "print(f'TP: {tp}')\n",
    "print(f'Missed: {near_miss}')\n",
    "print(f'FP: {fp}')\n",
    "print(f'FN: {fn}')\n",
    "\n",
    "print(f'Precision: {tp / (tp + fp)}')\n",
    "print(f'Precision (ignoring near misses): {tp / (tp + fp - near_miss)}')\n",
    "print(f'Recall: {tp / (tp + fn)}')\n",
    "print(f'F1: {2 * tp / (2 * tp + fp + fn)}')\n",
    "\n",
    "print(f'Accuracy: {tp / (tp + fp + fn)}')\n"
   ]
  }
 ],
 "metadata": {
  "kernelspec": {
   "display_name": "fsp",
   "language": "python",
   "name": "python3"
  },
  "language_info": {
   "codemirror_mode": {
    "name": "ipython",
    "version": 3
   },
   "file_extension": ".py",
   "mimetype": "text/x-python",
   "name": "python",
   "nbconvert_exporter": "python",
   "pygments_lexer": "ipython3",
   "version": "3.12.7"
  }
 },
 "nbformat": 4,
 "nbformat_minor": 2
}
