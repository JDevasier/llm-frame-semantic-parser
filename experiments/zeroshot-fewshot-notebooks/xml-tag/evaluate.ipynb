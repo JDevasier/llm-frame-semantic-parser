{
 "cells": [
  {
   "cell_type": "code",
   "execution_count": 5,
   "metadata": {},
   "outputs": [],
   "source": [
    "import pandas as pd\n",
    "\n",
    "# predictions = pd.read_csv('fn1.7-test-gpt-4o-mini-tempurature-0-xml-descriptions.csv')\n",
    "# predictions = pd.read_csv('fn1.7-test-gpt-4o-mini-tempurature-1-xml-descriptions-p1.csv')\n",
    "predictions = pd.read_csv('fn1.7-test-gpt-4o-mini-tempurature-1-xml-descriptions-p2.csv')\n",
    "\n"
   ]
  },
  {
   "cell_type": "code",
   "execution_count": 6,
   "metadata": {},
   "outputs": [],
   "source": [
    "import re\n",
    "def get_tags(text: str) -> dict:\n",
    "    # example: 'Your gift to Goodwill is important because <Cognizer>people with physical and Mental disabilities</Cognizer> sometimes need an extra hand to <Entity>know</Entity> the pride that comes with work .'\n",
    "    # output: {'Cognizer': 'people with physical and Mental disabilities', 'Entity': 'know'}\n",
    "    tags = {}\n",
    "\n",
    "    # get all text between tags\n",
    "    matches = re.findall(r'<(.*?)>(.*?)</(.*?)>', text)\n",
    "    for match in matches:\n",
    "        tag = match[0]\n",
    "        content = match[1]\n",
    "        tags[tag] = content\n",
    "\n",
    "    return tags\n"
   ]
  },
  {
   "cell_type": "code",
   "execution_count": 8,
   "metadata": {},
   "outputs": [
    {
     "name": "stdout",
     "output_type": "stream",
     "text": [
      "TP: 3955\n",
      "Missed: 3621\n",
      "FP: 8819\n",
      "FN: 6994\n",
      "Precision: 0.30961327696884294\n",
      "Precision (ignoring near misses): 0.43209876543209874\n",
      "Recall: 0.36122020275824274\n",
      "F1: 0.33343169076423723\n",
      "Accuracy: 0.20007082152974504\n"
     ]
    },
    {
     "name": "stderr",
     "output_type": "stream",
     "text": [
      "Bad pipe message: %s [b\"A<\\\\\\xc9b\\xad\\xac\\xe4\\x0c)Te\\x90p\\x94\\xea\\x86'\\x00\\x01|\\x00\\x00\\x00\\x01\\x00\\x02\\x00\\x03\\x00\\x04\\x00\\x05\\x00\\x06\\x00\\x07\\x00\\x08\\x00\\t\\x00\\n\\x00\\x0b\\x00\\x0c\\x00\\r\\x00\\x0e\\x00\\x0f\\x00\\x10\\x00\\x11\\x00\\x12\\x00\\x13\\x00\\x14\\x00\\x15\\x00\\x16\\x00\\x17\\x00\\x18\\x00\\x19\\x00\\x1a\\x00\\x1b\\x00/\\x000\\x001\\x002\\x003\\x004\\x005\\x006\\x007\\x008\\x009\\x00:\\x00;\\x00<\\x00=\\x00>\\x00?\\x00@\\x00A\\x00B\\x00C\\x00D\\x00E\\x00F\\x00g\\x00h\\x00i\\x00j\\x00k\\x00l\\x00m\\x00\\x84\\x00\\x85\\x00\\x86\\x00\\x87\\x00\\x88\\x00\\x89\\x00\\x96\\x00\\x97\\x00\\x98\\x00\\x99\\x00\\x9a\\x00\\x9b\\x00\\x9c\\x00\\x9d\\x00\\x9e\\x00\\x9f\\x00\\xa0\\x00\\xa1\\x00\\xa2\\x00\\xa3\\x00\\xa4\\x00\\xa5\\x00\\xa6\\x00\\xa7\\x00\\xba\\x00\\xbb\\x00\\xbc\\x00\\xbd\\x00\\xbe\\x00\\xbf\\x00\\xc0\\x00\"]\n",
      "Bad pipe message: %s [b'\\xa0\\x07\\r\\x1b_\\x0c\\x1d\\x99\\x91\\xe6\\xc0\\xab\\x15\\xfeE\\xd8\\xc7\\xe5\\x00\\x01|\\x00\\x00\\x00\\x01\\x00\\x02\\x00\\x03\\x00\\x04\\x00\\x05\\x00\\x06\\x00\\x07\\x00\\x08\\x00\\t\\x00\\n\\x00\\x0b\\x00\\x0c\\x00\\r\\x00\\x0e\\x00\\x0f\\x00\\x10\\x00\\x11\\x00\\x12\\x00\\x13\\x00\\x14\\x00\\x15\\x00\\x16\\x00\\x17\\x00\\x18\\x00\\x19\\x00\\x1a']\n",
      "Bad pipe message: %s [b'h\\x97\\xfa\\xb9\\xef\\x08\\xb0\\x0f\\xf7$\\xc7\\xdb\\xceL\\xf3^\\xf5\\xeb\\x00\\x01|\\x00\\x00\\x00\\x01\\x00\\x02\\x00\\x03\\x00\\x04\\x00\\x05\\x00\\x06\\x00\\x07\\x00\\x08\\x00\\t\\x00\\n\\x00\\x0b\\x00\\x0c\\x00\\r\\x00\\x0e\\x00\\x0f\\x00\\x10']\n",
      "Bad pipe message: %s [b'R=-k|\\x8b\\xc1.U\\xd8e\\xc78yC\\xe2\\x98K\\x00\\x01|\\x00\\x00\\x00\\x01\\x00\\x02\\x00\\x03\\x00\\x04\\x00\\x05\\x00\\x06\\x00\\x07\\x00\\x08\\x00\\t\\x00\\n\\x00\\x0b\\x00', b'\\r\\x00\\x0e\\x00\\x0f\\x00\\x10\\x00\\x11\\x00\\x12']\n",
      "Bad pipe message: %s [b\"\\xc2\\x00\\xc3\\x00\\xc4\\x00\\xc5\\x13\\x01\\x13\\x02\\x13\\x03\\x13\\x04\\x13\\x05\\xc0\\x01\\xc0\\x02\\xc0\\x03\\xc0\\x04\\xc0\\x05\\xc0\\x06\\xc0\\x07\\xc0\\x08\\xc0\\t\\xc0\\n\\xc0\\x0b\\xc0\\x0c\\xc0\\r\\xc0\\x0e\\xc0\\x0f\\xc0\\x10\\xc0\\x11\\xc0\\x12\\xc0\\x13\\xc0\\x14\\xc0\\x15\\xc0\\x16\\xc0\\x17\\xc0\\x18\\xc0\\x19\\xc0#\\xc0$\\xc0%\\xc0&\\xc0'\\xc0(\\xc0)\\xc0*\\xc0+\\xc0,\\xc0-\\xc0.\\xc0/\\xc00\\xc01\\xc02\\xc0r\\xc0s\\xc0t\\xc0u\\xc0v\\xc0w\\xc0x\\xc0y\\xc0z\\xc0{\\xc0|\\xc0}\\xc0~\\xc0\\x7f\\xc0\\x80\\xc0\\x81\\xc0\\x82\\xc0\\x83\\xc0\\x84\\xc0\\x85\\xc0\\x86\\xc0\\x87\\xc0\\x88\\xc0\\x89\\xc0\\x8a\\xc0\\x8b\\xc0\\x8c\\xc0\\x8d\\xc0\\x8e\\xc0\\x8f\\xc0\\x90\\xc0\\x91\\xc0\\x92\\xc0\\x93\\xc0\\x94\\xc0\\x95\\xc0\\x96\\xc0\\x97\\xc0\\x98\\xc0\\x99\\xc0\\x9a\\xc0\\x9b\\xcc\\xa8\\xcc\\xa9\\xcc\\xaa\\xcc\\xab\\xcc\"]\n"
     ]
    }
   ],
   "source": [
    "tp = 0\n",
    "near_miss = 0\n",
    "fp = 0\n",
    "fn = 0\n",
    "tn = 0 # not really used because tags only have positive values, technically all other FEs are TN, but we don't really care about that (maybe we should?)\n",
    "\n",
    "for label, pred, fes in predictions[['output', 'prediction', 'frame_elements']].values:\n",
    "\n",
    "    # Get each predicted FE span from the prediction\n",
    "    pred_tags = get_tags(pred)\n",
    "    real_tags = eval(fes)\n",
    "\n",
    "    # Check each predicted FE span\n",
    "    for tag, content in pred_tags.items():\n",
    "        if tag.capitalize() in real_tags:\n",
    "            if content == real_tags[tag.capitalize()]:\n",
    "                tp += 1\n",
    "            else:\n",
    "                fp += 1\n",
    "                near_miss += 1\n",
    "        else:\n",
    "            fp += 1\n",
    "    \n",
    "    # Check each real FE span\n",
    "    for tag, content in real_tags.items():\n",
    "        if tag not in pred_tags:\n",
    "            fn += 1\n",
    "        elif content != pred_tags[tag]:\n",
    "            fn += 1\n",
    "\n",
    "# print(f'Perfect: {perfect} out of {len(predictions)}')\n",
    "print(f'TP: {tp}')\n",
    "print(f'Missed: {near_miss}')\n",
    "print(f'FP: {fp}')\n",
    "print(f'FN: {fn}')\n",
    "\n",
    "print(f'Precision: {tp / (tp + fp)}')\n",
    "print(f'Precision (ignoring near misses): {tp / (tp + fp - near_miss)}')\n",
    "print(f'Recall: {tp / (tp + fn)}')\n",
    "print(f'F1: {2 * tp / (2 * tp + fp + fn)}')\n",
    "\n",
    "print(f'Accuracy: {tp / (tp + fp + fn)}')\n"
   ]
  }
 ],
 "metadata": {
  "kernelspec": {
   "display_name": "fsp",
   "language": "python",
   "name": "python3"
  },
  "language_info": {
   "codemirror_mode": {
    "name": "ipython",
    "version": 3
   },
   "file_extension": ".py",
   "mimetype": "text/x-python",
   "name": "python",
   "nbconvert_exporter": "python",
   "pygments_lexer": "ipython3",
   "version": "3.12.7"
  }
 },
 "nbformat": 4,
 "nbformat_minor": 2
}
