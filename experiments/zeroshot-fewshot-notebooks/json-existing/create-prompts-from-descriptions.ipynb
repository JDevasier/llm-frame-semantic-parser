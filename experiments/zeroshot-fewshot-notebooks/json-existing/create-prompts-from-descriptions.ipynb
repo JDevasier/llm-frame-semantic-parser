{
 "cells": [
  {
   "cell_type": "code",
   "execution_count": 5,
   "metadata": {},
   "outputs": [],
   "source": [
    "import pandas as pd\n",
    "\n",
    "frame_descriptions = pd.read_csv('frame_descriptions_json.csv')\n",
    "\n",
    "prompt = \"\"\"### Task:\n",
    "You are given a sentence and a frame with its associated frame elements and sometimes examples. Your task is to label the frame elements in the sentence using JSON. Keys should only be one of the defined frame elements. Do not make up your own frame elements, and do not remove or change the input in any way. Identify the frame elements based on the highlighted target word. \n",
    "\n",
    "### Frame Information:\n",
    "{frame_info}\n",
    "\n",
    "### Notes:\n",
    "- Return the tagged sentence in a ```json ``` block.\n",
    "- The keys in the JSON object should be the frame elements, and the values should be the exact text spans from the sentence that correspond to those frame elements.\n",
    "- Texts must not overlap.\n",
    "\n",
    "### Input:\n",
    "{input_sentence}\n",
    "\"\"\""
   ]
  },
  {
   "cell_type": "code",
   "execution_count": 6,
   "metadata": {},
   "outputs": [],
   "source": [
    "import pickle\n",
    "\n",
    "with open('../../data/raw/os_test.pkl', 'rb') as f:\n",
    "    fn_data = pickle.load(f)\n"
   ]
  },
  {
   "cell_type": "code",
   "execution_count": 7,
   "metadata": {},
   "outputs": [
    {
     "name": "stdout",
     "output_type": "stream",
     "text": [
      "Frame Name: Process_continue\n",
      "Frame Definition: An Event continues at a certain Place through Time. (Note that often when 'continue.v' occurs with definite time points, it denotes Resumption, which is out of frame here.)\n",
      "Examples:\n",
      "  - Pyongyang agreed to suspend its withdrawal while talks continued with Washington. -> {\"Event\": \"with Washington\"}\n",
      "  - Missions and different plans proceed according to Islamic law provision. -> {\"Event\": \"Missions and different plans\", \"Manner\": \"according to Islamic law provision\"}\n",
      "  - Large forest fire continues to burn into third day in southern Norway -> {\"Event\": \"to burn\", \"Time\": \"into third day\", \"Place\": \"in southern Norway\"}\n",
      "  - Thousands of people in Greece have been forced to evacuate their homes after major wildfires continued for their third day in the suburbs outside of Athens . -> {\"Event\": \"major wildfires\", \"Depictive\": \"for their third day\", \"Place\": \"in the suburbs outside of Athens\"}\n",
      "  - Forest fires continue to rage in Spain -> {\"Event\": \"to rage\", \"Place\": \"in Spain\"}\n",
      "  - They held sway over islands off the northern Greek coast , but the Phoenicians kept control of the main sea routes ; south of the area , trade continued as usual . -> {\"Place\": \"south of the area\", \"Event\": \"trade\", \"Manner\": \"as usual\"}\n",
      "  - Although this attempt was unsuccessful , the campaign for a Greek state continued into the 19th century and began to grow in strength . -> {\"Concessive\": \"Although this attempt was unsuccessful\", \"Event\": \"the campaign for a Greek state\", \"Duration\": \"into the 19th century\"}\n",
      "\n",
      "Frame Elements:\n",
      "Depictive (Extra-Thematic): Depictive phrase about the state of a focal participant.\n",
      "  - The rain **continued** unabated. -> {\"Depictive\": \"unabated\"}\n",
      "Manner (Peripheral): Manner in which the Event is continuing.\n",
      "Duration (Peripheral): This FE identifies the Duration of time over which the Event is ongoing.\n",
      "Event (Core-Unexpressed): Name of the Event which is continuing.\n",
      "Place (Peripheral): Where the Event takes place.\n",
      "Explanation (Extra-Thematic): The Explanation for which the Event occurs.\n",
      "Time (Peripheral): When the Event occurs.\n",
      "Next_subevent (Extra-Thematic): The Next_subevent of the overall Event.\n",
      "  - The meeting **continued** with a discussion... -> {\"Next_subevent\": \"with a discussion\"}\n",
      "Circumstances (Extra-Thematic): Circumstances describe the state of the world (at a particular time and place) which is specifically independent of the event itself and any of its participants.\n",
      "Concessive (Extra-Thematic): This FE signifies that the state of affairs expressed by the main clause (containing the target) occurs or holds, and something other than that state of affairs would be expected given the state of affairs in the concessive clause.\n",
      "\n"
     ]
    }
   ],
   "source": [
    "print(frame_descriptions.values[0][1])"
   ]
  },
  {
   "cell_type": "code",
   "execution_count": 8,
   "metadata": {},
   "outputs": [],
   "source": [
    "# Create dicts for each sample:\n",
    "# - input_sentence w/ target span surrounded with ** for highlighting\n",
    "# - frame_name\n",
    "# - frame_elements (as text, not spans)\n",
    "\n",
    "def get_json_output(text, frame_elements):\n",
    "    sorted_fes = sorted(frame_elements.items(), key=lambda x: text.find(x[1]))\n",
    "    \n",
    "    sorted_fes = dict(sorted_fes)\n",
    "    \n",
    "    return sorted_fes\n",
    "\n",
    "test_samples = []\n",
    "frame_descriptions_dict = frame_descriptions.set_index('name').to_dict()['description']\n",
    "\n",
    "for row in fn_data.iterrows():\n",
    "    # Index(['target', 'text', 'tokens', 'lu', 'frame', 'fe'], dtype='object')\n",
    "    idx, data = row\n",
    "    \n",
    "    # Get input sentence\n",
    "    input_sentence = data['text'][:data['target'][0]] + '**' + data['text'][data['target'][0]:data['target'][1]] + '**' + data['text'][data['target'][1]:]\n",
    "    \n",
    "    # Get frame name\n",
    "    frame_name = data['frame']\n",
    "    \n",
    "    # Get frame elements\n",
    "    frame_elements = {}\n",
    "    for fe in data['fe']:\n",
    "        frame_elements[fe[0]] = data['text'][fe[1]:fe[2]]\n",
    "        \n",
    "    # Get expected output\n",
    "    expected_output = get_json_output(data['text'], frame_elements)\n",
    "\n",
    "    sample = {\n",
    "        'input_sentence': input_sentence,\n",
    "        'frame_name': frame_name,\n",
    "        'frame_elements': frame_elements,\n",
    "        'prompt': prompt.format(frame_info=frame_descriptions_dict[frame_name], input_sentence=input_sentence),\n",
    "        'output': expected_output\n",
    "    }\n",
    "    \n",
    "    if len(frame_elements) > 0:\n",
    "        test_samples.append(sample)\n",
    "\n",
    "pd.DataFrame(test_samples).to_csv('fn1.7-test-prompts.csv', index=False)\n"
   ]
  },
  {
   "cell_type": "code",
   "execution_count": null,
   "metadata": {},
   "outputs": [],
   "source": []
  }
 ],
 "metadata": {
  "kernelspec": {
   "display_name": "llm",
   "language": "python",
   "name": "python3"
  },
  "language_info": {
   "codemirror_mode": {
    "name": "ipython",
    "version": 3
   },
   "file_extension": ".py",
   "mimetype": "text/x-python",
   "name": "python",
   "nbconvert_exporter": "python",
   "pygments_lexer": "ipython3",
   "version": "3.11.11"
  }
 },
 "nbformat": 4,
 "nbformat_minor": 2
}
