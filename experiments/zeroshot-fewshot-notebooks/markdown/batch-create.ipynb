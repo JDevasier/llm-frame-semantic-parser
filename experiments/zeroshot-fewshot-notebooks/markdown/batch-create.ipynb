{
 "cells": [
  {
   "cell_type": "code",
   "execution_count": 1,
   "metadata": {},
   "outputs": [],
   "source": [
    "import pandas as pd\n",
    "\n",
    "prompts = pd.read_csv('fn1.7-test-prompts.csv')"
   ]
  },
  {
   "cell_type": "code",
   "execution_count": 2,
   "metadata": {},
   "outputs": [],
   "source": [
    "def make_batch(row, model, temperature):\n",
    "    # Row: input_sentence\tframe_name\tframe_elements\tprompt\toutput\n",
    "    row_id = f\"request-{row.name}\"\n",
    "    method = \"POST\"\n",
    "    url = \"/v1/chat/completions\"\n",
    "    body = {\n",
    "        \"model\": model,\n",
    "        \"messages\": [{\"role\": \"system\", \"content\": row.prompt}],\n",
    "        \"temperature\": temperature,\n",
    "    }\n",
    "    return {\n",
    "        \"custom_id\": row_id,\n",
    "        \"method\": method,\n",
    "        \"url\": url,\n",
    "        \"body\": body\n",
    "    }\n",
    "\n",
    "MODEL_NAME = \"gpt-4o-mini\"\n",
    "PROMPT_NAME = \"markdown-newprompt\"\n",
    "TEMPERATURE = 0.0\n",
    "\n",
    "file_name = f\"batch-{MODEL_NAME}-{TEMPERATURE}temperature-{PROMPT_NAME}\"\n",
    "\n",
    "batch_prompts = prompts.apply(lambda x: make_batch(x, MODEL_NAME, TEMPERATURE), axis=1)\n",
    "pd.DataFrame(batch_prompts)[0].to_json(f\"{file_name}.jsonl\", orient=\"records\", lines=True)"
   ]
  },
  {
   "cell_type": "code",
   "execution_count": 3,
   "metadata": {},
   "outputs": [],
   "source": [
    "# Upload batch and run the model\n",
    "import openai\n",
    "\n",
    "client = openai.Client(api_key='sk-proj-')\n",
    "\n",
    "batch_input_file = client.files.create(file=open(f\"{file_name}.jsonl\", 'rb'), purpose='batch')\n",
    "\n",
    "request = client.batches.create(\n",
    "    input_file_id=batch_input_file.id,\n",
    "    endpoint=\"/v1/chat/completions\",\n",
    "    completion_window=\"24h\",\n",
    "    metadata={\n",
    "      \"description\": f\"Batch for FSP on FrameNet1.7 test set. Model: {MODEL_NAME}, Temperature: {TEMPERATURE}, Prompt: {PROMPT_NAME}\"\n",
    "    }\n",
    ")"
   ]
  },
  {
   "cell_type": "code",
   "execution_count": 4,
   "metadata": {},
   "outputs": [],
   "source": [
    "import datetime\n",
    "dts = datetime.datetime.fromtimestamp(request.created_at).strftime(\"%Y%m%d-%H%M%S\")\n",
    "\n",
    "with open(f\"{file_name}.id\", \"w\") as f:\n",
    "    f.write(request.id)"
   ]
  },
  {
   "cell_type": "markdown",
   "metadata": {},
   "source": [
    "## Once the batch has finished..."
   ]
  },
  {
   "cell_type": "code",
   "execution_count": 5,
   "metadata": {},
   "outputs": [],
   "source": [
    "import openai\n",
    "import os\n",
    "\n",
    "with open(f\"{file_name}.id\", \"r\") as f:\n",
    "    request_id = f.read()\n",
    "\n",
    "client = openai.Client(api_key='sk-proj-')\n",
    "\n",
    "request = client.batches.retrieve(request_id)\n",
    "\n",
    "if not os.path.exists(f\"{file_name}-predictions.jsonl\"):\n",
    "    output_file = client.files.retrieve(request.output_file_id)\n",
    "    output_file_content = client.files.content(output_file.id)\n",
    "\n",
    "    with open(f\"{file_name}-predictions.jsonl\", \"wb\") as f:\n",
    "        f.write(output_file_content.content)"
   ]
  },
  {
   "cell_type": "code",
   "execution_count": null,
   "metadata": {},
   "outputs": [],
   "source": [
    "import re\n",
    "\n",
    "# Extract FEs from the output\n",
    "def clean_output(output):\n",
    "\n",
    "    clean_output = output\n",
    "    \n",
    "    markdown_output = re.search(r'```(.*?)```', output, re.DOTALL)\n",
    "    clean_output = ''\n",
    "    if markdown_output:\n",
    "        clean_output = markdown_output.group(1).strip()\n",
    "    \n",
    "    clean_output = {}\n",
    "    \n",
    "    for line in clean_output.split(\"\\n\"):\n",
    "        clean_line = line.strip()\n",
    "        if clean_line.startswith('-'):\n",
    "            line_parts = clean_line.split(':')\n",
    "            fe_name = line_parts[0].strip().replace('-', '')\n",
    "            fe_value = line_parts[1].strip()\n",
    "            clean_output[fe_name] = fe_value\n",
    "            \n",
    "    \n",
    "    return clean_output\n",
    "\n",
    "lines = pd.read_json(f\"{file_name}-predictions.jsonl\", lines=True)\n",
    "cleaned_lines = lines.response.apply(lambda x: clean_output(x['body']['choices'][0]['message']['content']))\n",
    "# cleaned_lines = [clean_output(line) for line in lines]\n",
    "\n",
    "cleaned_lines.to_json(f\"{file_name}-predictions-cleaned.jsonl\", orient=\"records\", lines=True)"
   ]
  }
 ],
 "metadata": {
  "kernelspec": {
   "display_name": "llm",
   "language": "python",
   "name": "python3"
  },
  "language_info": {
   "codemirror_mode": {
    "name": "ipython",
    "version": 3
   },
   "file_extension": ".py",
   "mimetype": "text/x-python",
   "name": "python",
   "nbconvert_exporter": "python",
   "pygments_lexer": "ipython3",
   "version": "3.11.11"
  }
 },
 "nbformat": 4,
 "nbformat_minor": 2
}
