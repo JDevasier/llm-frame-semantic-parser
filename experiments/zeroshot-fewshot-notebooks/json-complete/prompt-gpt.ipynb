{
 "cells": [
  {
   "cell_type": "code",
   "execution_count": 2,
   "metadata": {},
   "outputs": [],
   "source": [
    "import pandas as pd\n",
    "import openai\n",
    "\n",
    "prompts = pd.read_csv('fn1.7-test-prompts.csv')"
   ]
  },
  {
   "cell_type": "code",
   "execution_count": null,
   "metadata": {},
   "outputs": [
    {
     "name": "stderr",
     "output_type": "stream",
     "text": [
      "Bad pipe message: %s [b'\\x9a@L9\\xb4\\x1eER\\xd4\\xbb\\x95UX\\x1b\\x1b\\x9c\\x03\\x07\\x00\\x01|\\x00\\x00\\x00\\x01\\x00\\x02\\x00\\x03\\x00\\x04\\x00\\x05\\x00\\x06\\x00\\x07\\x00\\x08\\x00\\t\\x00\\n\\x00\\x0b\\x00\\x0c\\x00\\r\\x00\\x0e\\x00\\x0f\\x00\\x10\\x00\\x11\\x00\\x12\\x00\\x13\\x00\\x14\\x00\\x15\\x00\\x16\\x00\\x17\\x00\\x18\\x00\\x19\\x00\\x1a\\x00\\x1b\\x00/\\x000']\n",
      "Bad pipe message: %s [b\"\\x97O*\\xf7|\\xd6.\\xe3\\xb1<\\x8a\\xd4\\xc2/\\x1a's\\xed\\x00\\x01|\\x00\"]\n",
      "Bad pipe message: %s [b'?\\x8a\\x82cH$\\x13\\x9ar<\\nB\\xb7\\xcfi\\xa3\\x14G\\x00\\x01|\\x00\\x00\\x00\\x01\\x00\\x02\\x00\\x03\\x00\\x04']\n"
     ]
    }
   ],
   "source": [
    "from concurrent.futures import ThreadPoolExecutor\n",
    "import re\n",
    "\n",
    "def clean_output(output):\n",
    "    clean_output = output\n",
    "    # Extract XML code from the output\n",
    "    xml_code = re.search(r'```json(.*?)```', output, re.DOTALL)\n",
    "    clean_output = ''\n",
    "    if xml_code:\n",
    "        clean_output = xml_code.group(1).strip()\n",
    "\n",
    "    return clean_output\n",
    "\n",
    "def prompt_gpt(prompt):\n",
    "    response = client.chat.completions.create(\n",
    "        model=\"gpt-4o-mini\",\n",
    "        temperature=0,\n",
    "        messages=[\n",
    "            {\"role\": \"system\", \"content\": prompt}\n",
    "        ]\n",
    "    )\n",
    "\n",
    "    output = response.choices[0].message.content\n",
    "    \n",
    "    return clean_output(output)\n",
    "\n",
    "def parallel_prompt_gpt(prompts):\n",
    "    with ThreadPoolExecutor(max_workers=5) as executor:\n",
    "        outputs = list(executor.map(prompt_gpt, prompts))\n",
    "\n",
    "    return outputs\n",
    "\n",
    "client = openai.Client(api_key='sk-proj-')\n",
    "\n",
    "outputs = parallel_prompt_gpt(prompts['prompt'].values)\n",
    "\n",
    "prompts['prediction'] = outputs\n",
    "\n",
    "prompts.to_csv('fn1.7-test-gpt-4o-mini-tempurature-0-json-allfe-descriptions.csv', index=False)"
   ]
  }
 ],
 "metadata": {
  "kernelspec": {
   "display_name": "fsp",
   "language": "python",
   "name": "python3"
  },
  "language_info": {
   "codemirror_mode": {
    "name": "ipython",
    "version": 3
   },
   "file_extension": ".py",
   "mimetype": "text/x-python",
   "name": "python",
   "nbconvert_exporter": "python",
   "pygments_lexer": "ipython3",
   "version": "3.12.7"
  }
 },
 "nbformat": 4,
 "nbformat_minor": 2
}
