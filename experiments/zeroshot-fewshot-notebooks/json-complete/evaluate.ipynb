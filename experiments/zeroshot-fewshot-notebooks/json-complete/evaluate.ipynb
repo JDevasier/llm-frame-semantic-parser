{
 "cells": [
  {
   "cell_type": "code",
   "execution_count": 8,
   "metadata": {},
   "outputs": [],
   "source": [
    "import pandas as pd\n",
    "\n",
    "# predictions = pd.read_csv('fn1.7-test-gpt-4o-mini-tempurature-0-json-allfe-descriptions.csv')\n",
    "predictions = pd.read_csv('fn1.7-test-gpt-4o-mini-tempurature-1-json-allfe-descriptions-p1.csv')\n",
    "\n"
   ]
  },
  {
   "cell_type": "code",
   "execution_count": 9,
   "metadata": {},
   "outputs": [],
   "source": [
    "import json\n",
    "def get_tags(text: str) -> dict:\n",
    "    try:\n",
    "        tags = json.loads(text)\n",
    "    except:\n",
    "        tags = {}\n",
    "    return tags\n"
   ]
  },
  {
   "cell_type": "code",
   "execution_count": 10,
   "metadata": {},
   "outputs": [
    {
     "name": "stdout",
     "output_type": "stream",
     "text": [
      "TP: 6229\n",
      "Missed: 4532\n",
      "FP: 11581\n",
      "FN: 4720\n",
      "Precision (ignoring near misses): 0.46912185570115983\n",
      "Precision: 0.3497473329590118\n",
      "Recall: 0.5689104027765093\n",
      "F1: 0.43318613303661463\n",
      "Accuracy: 0.2764758100310697\n"
     ]
    },
    {
     "name": "stderr",
     "output_type": "stream",
     "text": [
      "Bad pipe message: %s [b'\\x91f\\xfb\\x07+\\xb1\\xdaZ\\x1e!\\xc6\\xd4\\xaeb\\x92bG7\\x00\\x01|\\x00\\x00\\x00\\x01\\x00\\x02\\x00\\x03\\x00\\x04\\x00\\x05\\x00\\x06\\x00\\x07\\x00\\x08\\x00\\t\\x00\\n\\x00\\x0b\\x00\\x0c\\x00\\r\\x00\\x0e\\x00\\x0f\\x00\\x10\\x00\\x11\\x00\\x12\\x00\\x13\\x00\\x14\\x00\\x15\\x00\\x16\\x00\\x17\\x00\\x18\\x00\\x19\\x00\\x1a\\x00\\x1b\\x00/\\x000\\x001\\x002\\x003\\x004\\x005\\x006\\x007\\x008\\x009\\x00:\\x00;\\x00<\\x00=\\x00>\\x00?\\x00@\\x00A\\x00B\\x00C\\x00D\\x00E\\x00F\\x00g\\x00h\\x00i\\x00j\\x00k\\x00l\\x00m\\x00\\x84\\x00\\x85\\x00\\x86\\x00\\x87\\x00', b\"\\x89\\x00\\x96\\x00\\x97\\x00\\x98\\x00\\x99\\x00\\x9a\\x00\\x9b\\x00\\x9c\\x00\\x9d\\x00\\x9e\\x00\\x9f\\x00\\xa0\\x00\\xa1\\x00\\xa2\\x00\\xa3\\x00\\xa4\\x00\\xa5\\x00\\xa6\\x00\\xa7\\x00\\xba\\x00\\xbb\\x00\\xbc\\x00\\xbd\\x00\\xbe\\x00\\xbf\\x00\\xc0\\x00\\xc1\\x00\\xc2\\x00\\xc3\\x00\\xc4\\x00\\xc5\\x13\\x01\\x13\\x02\\x13\\x03\\x13\\x04\\x13\\x05\\xc0\\x01\\xc0\\x02\\xc0\\x03\\xc0\\x04\\xc0\\x05\\xc0\\x06\\xc0\\x07\\xc0\\x08\\xc0\\t\\xc0\\n\\xc0\\x0b\\xc0\\x0c\\xc0\\r\\xc0\\x0e\\xc0\\x0f\\xc0\\x10\\xc0\\x11\\xc0\\x12\\xc0\\x13\\xc0\\x14\\xc0\\x15\\xc0\\x16\\xc0\\x17\\xc0\\x18\\xc0\\x19\\xc0#\\xc0$\\xc0%\\xc0&\\xc0'\\xc0(\\xc0)\"]\n",
      "Bad pipe message: %s [b'\\x1d\\n\\xe3\\xd1k\\x9a)\\x0fj\\xde\\x1a\\x03T\\t\\xf64\\xae\\x06\\x00\\x01|\\x00\\x00\\x00\\x01\\x00\\x02\\x00\\x03\\x00\\x04\\x00\\x05\\x00\\x06\\x00\\x07\\x00\\x08\\x00\\t\\x00\\n\\x00\\x0b\\x00\\x0c\\x00\\r\\x00\\x0e\\x00\\x0f\\x00\\x10\\x00\\x11\\x00\\x12\\x00\\x13\\x00\\x14\\x00\\x15\\x00\\x16\\x00\\x17\\x00\\x18\\x00\\x19\\x00\\x1a\\x00\\x1b\\x00/\\x000\\x001\\x002\\x003\\x004\\x005\\x006\\x007\\x008\\x009\\x00:\\x00;\\x00<\\x00=\\x00>\\x00?\\x00@']\n"
     ]
    }
   ],
   "source": [
    "tp = 0\n",
    "near_miss = 0\n",
    "fp = 0\n",
    "fn = 0\n",
    "\n",
    "for label, pred, fes in predictions[['output', 'prediction', 'frame_elements']].values:\n",
    "\n",
    "    # Get each predicted FE span from the prediction\n",
    "    pred_tags = get_tags(pred)\n",
    "    real_tags = eval(fes)\n",
    "\n",
    "    # Check each predicted FE span\n",
    "    for tag, content in pred_tags.items():\n",
    "        if tag.capitalize() in real_tags:\n",
    "            if content == real_tags[tag.capitalize()]:\n",
    "                tp += 1\n",
    "            else:\n",
    "                fp += 1\n",
    "                near_miss += 1\n",
    "        else:\n",
    "            if content.strip() != '':\n",
    "                fp += 1\n",
    "    \n",
    "    # Check each real FE span\n",
    "    for tag, content in real_tags.items():\n",
    "        if tag not in pred_tags:\n",
    "            fn += 1\n",
    "        elif content != pred_tags[tag]:\n",
    "            fn += 1\n",
    "\n",
    "# print(f'Perfect: {perfect} out of {len(predictions)}')\n",
    "print(f'TP: {tp}')\n",
    "print(f'Missed: {near_miss}')\n",
    "print(f'FP: {fp}')\n",
    "print(f'FN: {fn}')\n",
    "\n",
    "print(f'Precision (ignoring near misses): {tp / (tp + fp - near_miss)}')\n",
    "print(f'Precision: {tp / (tp + fp)}')\n",
    "print(f'Recall: {tp / (tp + fn)}')\n",
    "print(f'F1: {2 * tp / (2 * tp + fp + fn)}')\n",
    "\n",
    "print(f'Accuracy: {tp / (tp + fn + fp)}')\n",
    "\n"
   ]
  }
 ],
 "metadata": {
  "kernelspec": {
   "display_name": "llm",
   "language": "python",
   "name": "python3"
  },
  "language_info": {
   "codemirror_mode": {
    "name": "ipython",
    "version": 3
   },
   "file_extension": ".py",
   "mimetype": "text/x-python",
   "name": "python",
   "nbconvert_exporter": "python",
   "pygments_lexer": "ipython3",
   "version": "3.11.11"
  }
 },
 "nbformat": 4,
 "nbformat_minor": 2
}
